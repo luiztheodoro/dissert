{
 "cells": [
  {
   "cell_type": "code",
   "execution_count": 1,
   "metadata": {},
   "outputs": [],
   "source": [
    "import math\n",
    "import numpy as np\n",
    "import matplotlib.pyplot as plt"
   ]
  },
  {
   "cell_type": "markdown",
   "metadata": {},
   "source": [
    "Seja o sistema de equações diferenciais estocásticas definido a seguir:\n",
    "\n",
    "$\n",
    "\\begin{equation}\n",
    "    \\begin{split}\n",
    "        dX(t) &= V(t)dt \\\\\n",
    "        dY(t) &= \\big(-\\beta Y(t) + V(t)\\big)dt \\\\\n",
    "        dV(t) &= \\big(-\\eta V(t) - f(X(t)) - \\alpha Y(t)\\big)dt + \\sum_{j=1}^m \\sigma_j dW_t^j\n",
    "    \\end{split}\n",
    "\\end{equation}\n",
    "$"
   ]
  },
  {
   "cell_type": "code",
   "execution_count": 89,
   "metadata": {},
   "outputs": [],
   "source": [
    "def f(X):\n",
    "    delta = 1.0\n",
    "    return delta*X**3"
   ]
  },
  {
   "cell_type": "code",
   "execution_count": 88,
   "metadata": {},
   "outputs": [],
   "source": [
    "def a(param,Z):\n",
    "    beta, eta, alpha, delta, sigma = param\n",
    "    return np.array([[Z[2,0]],[-beta*Z[1,0] + Z[2,0]],[-eta*Z[2,0] - f(Z[0,0]) - alpha*Z[1,0]]])"
   ]
  },
  {
   "cell_type": "code",
   "execution_count": 115,
   "metadata": {},
   "outputs": [],
   "source": [
    "def K(param,Z,zeta,h):\n",
    "    beta, eta, alpha, delta, sigma = param\n",
    "    return Z + a(param,Z)*h + h**0.5 * np.array([[0.0],[0.0],[np.dot(sigma,zeta)]])"
   ]
  },
  {
   "cell_type": "code",
   "execution_count": 120,
   "metadata": {},
   "outputs": [
    {
     "name": "stderr",
     "output_type": "stream",
     "text": [
      "<ipython-input-88-0deed800e523>:3: RuntimeWarning: overflow encountered in power\n",
      "  return np.array([[Z[2,0]],[-beta*Z[1,0] + Z[2,0]],[-eta*Z[2,0] - delta*Z[0,0]**3 - alpha*Z[1,0]]])\n",
      "<ipython-input-88-0deed800e523>:3: RuntimeWarning: invalid value encountered in subtract\n",
      "  return np.array([[Z[2,0]],[-beta*Z[1,0] + Z[2,0]],[-eta*Z[2,0] - delta*Z[0,0]**3 - alpha*Z[1,0]]])\n",
      "<ipython-input-120-f2296da0c3b2>:25: RuntimeWarning: invalid value encountered in add\n",
      "  Zn = Zn + (h/2)*a(param,Zn) + a(param, K(param,Zn,zeta[:,:,j],h)) + np.array([[0.0],[0.0],[np.dot(sigma,zeta[:,:,j])]])\n",
      "<ipython-input-115-dc6ea6d9ec9f>:3: RuntimeWarning: invalid value encountered in add\n",
      "  return Z + a(param,Z)*h + h**0.5 * np.array([[0.0],[0.0],[np.dot(sigma,zeta)]])\n"
     ]
    }
   ],
   "source": [
    "np.random.seed(100)\n",
    "\n",
    "m = 1\n",
    "\n",
    "beta = 1.0\n",
    "eta = 1.0\n",
    "alpha = 1.0\n",
    "delta = 1.0\n",
    "sigma = np.ones((1,m))\n",
    "\n",
    "param = [beta, eta, alpha, delta, sigma]\n",
    "\n",
    "T = 1\n",
    "N = 2**9\n",
    "h = T/N\n",
    "M = 30\n",
    "\n",
    "tpdist = np.vectorize(lambda x: 0.0 if (x <= 2/3) else 3.0**0.5 if (x > 2/3) and (x <= 5/6) else -(3.0**0.5))\n",
    "\n",
    "zeta = tpdist(np.random.random((m,M,N)))\n",
    "\n",
    "Z0 = np.array([[0],[0],[0]])\n",
    "Zn = Z0*np.ones((3,M))\n",
    "for j in range(N):\n",
    "    Zn = Zn + (h/2)*a(param,Zn) + a(param, K(param,Zn,zeta[:,:,j],h)) + np.array([[0.0],[0.0],[np.dot(sigma,zeta[:,:,j])]])\n"
   ]
  },
  {
   "cell_type": "code",
   "execution_count": 121,
   "metadata": {},
   "outputs": [
    {
     "name": "stdout",
     "output_type": "stream",
     "text": [
      "[[0. 0. 0. ... 0. 0. 0.]\n",
      " [0. 0. 0. ... 0. 0. 0.]\n",
      " [0. 0. 0. ... 0. 0. 0.]]\n"
     ]
    }
   ],
   "source": [
    "print(Z)"
   ]
  },
  {
   "cell_type": "code",
   "execution_count": null,
   "metadata": {},
   "outputs": [],
   "source": []
  }
 ],
 "metadata": {
  "kernelspec": {
   "display_name": "Python 3",
   "language": "python",
   "name": "python3"
  },
  "language_info": {
   "codemirror_mode": {
    "name": "ipython",
    "version": 3
   },
   "file_extension": ".py",
   "mimetype": "text/x-python",
   "name": "python",
   "nbconvert_exporter": "python",
   "pygments_lexer": "ipython3",
   "version": "3.8.3"
  }
 },
 "nbformat": 4,
 "nbformat_minor": 4
}
